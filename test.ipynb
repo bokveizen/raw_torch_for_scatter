{
 "cells": [
  {
   "cell_type": "code",
   "execution_count": 1,
   "metadata": {},
   "outputs": [],
   "source": [
    "from functions import (\n",
    "    scatter_sum_raw,\n",
    "    scatter_add_raw,\n",
    "    scatter_mean_raw,\n",
    "    scatter_max_raw,\n",
    "    scatter_min_raw,\n",
    "    scatter_mul_raw,\n",
    "    scatter_softmax_raw,\n",
    "    scatter_log_softmax_raw,\n",
    "    scatter_logsumexp_raw,\n",
    "    scatter_std_raw,\n",
    ")\n",
    "import torch\n",
    "from torch_scatter import (\n",
    "    scatter_sum,\n",
    "    scatter_add,\n",
    "    scatter_mean,\n",
    "    scatter_max,\n",
    "    scatter_min,\n",
    "    scatter_mul,\n",
    "    scatter_softmax,\n",
    "    scatter_log_softmax,\n",
    "    scatter_logsumexp,\n",
    "    scatter_std,\n",
    ")\n",
    "\n",
    "name2funcs = {\n",
    "    \"sum\": (scatter_sum_raw, scatter_sum),\n",
    "    \"add\": (scatter_add_raw, scatter_add),\n",
    "    \"mean\": (scatter_mean_raw, scatter_mean),\n",
    "    \"max\": (scatter_max_raw, scatter_max),\n",
    "    \"min\": (scatter_min_raw, scatter_min),\n",
    "    \"mul\": (scatter_mul_raw, scatter_mul),\n",
    "    \"softmax\": (scatter_softmax_raw, scatter_softmax),\n",
    "    \"log_softmax\": (scatter_log_softmax_raw, scatter_log_softmax),\n",
    "    \"logsumexp\": (scatter_logsumexp_raw, scatter_logsumexp),\n",
    "    \"std\": (scatter_std_raw, scatter_std),    \n",
    "}"
   ]
  },
  {
   "cell_type": "code",
   "execution_count": 4,
   "metadata": {},
   "outputs": [],
   "source": [
    "# test the functions\n",
    "\n",
    "device = torch.device(\"cuda:0\" if torch.cuda.is_available() else \"cpu\")\n",
    "\n",
    "n = 10\n",
    "m = 5\n",
    "input_list = [\n",
    "    torch.rand(10),\n",
    "    torch.rand(10, 3),\n",
    "    torch.rand(10, 5),\n",
    "    torch.rand(10, 3, 5),    \n",
    "]\n",
    "index = torch.randint(0, m, (n,))\n",
    "\n",
    "for _ in range(100):\n",
    "    for name, (func_raw, func) in name2funcs.items():\n",
    "        out1 = func_raw(input_list[0], index, dim=0, dim_size=m)\n",
    "        out2 = func(input_list[0], index, dim=0, dim_size=m)\n",
    "        if name in [\"max\", \"min\"]:\n",
    "            out2 = out2[0]\n",
    "        assert torch.allclose(out1, out2), f\"name: {out1} {out2}\"\n",
    "    "
   ]
  }
 ],
 "metadata": {
  "kernelspec": {
   "display_name": "base",
   "language": "python",
   "name": "python3"
  },
  "language_info": {
   "codemirror_mode": {
    "name": "ipython",
    "version": 3
   },
   "file_extension": ".py",
   "mimetype": "text/x-python",
   "name": "python",
   "nbconvert_exporter": "python",
   "pygments_lexer": "ipython3",
   "version": "3.10.14"
  }
 },
 "nbformat": 4,
 "nbformat_minor": 2
}
