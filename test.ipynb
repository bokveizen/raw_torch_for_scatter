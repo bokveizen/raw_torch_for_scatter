{
 "cells": [
  {
   "cell_type": "code",
   "execution_count": 1,
   "metadata": {},
   "outputs": [],
   "source": [
    "# scatter_add\n",
    "\n",
    "import torch\n",
    "import torch.nn.functional as F\n",
    "from typing import Optional, Tuple\n",
    "import torch_scatter\n",
    "\n",
    "\n",
    "# torch_scatter/utils.py\n",
    "def broadcast(src: torch.Tensor, other: torch.Tensor, dim: int):\n",
    "    if dim < 0:\n",
    "        dim = other.dim() + dim\n",
    "    if src.dim() == 1:\n",
    "        for _ in range(0, dim):\n",
    "            src = src.unsqueeze(0)\n",
    "    for _ in range(src.dim(), other.dim()):\n",
    "        src = src.unsqueeze(-1)\n",
    "    src = src.expand(other.size())\n",
    "    return src\n"
   ]
  },
  {
   "cell_type": "code",
   "execution_count": 4,
   "metadata": {},
   "outputs": [
    {
     "name": "stdout",
     "output_type": "stream",
     "text": [
      "(tensor([10.,  8.,  9.]), tensor([9, 7, 8]))\n",
      "tensor([10.,  8.,  9.])\n"
     ]
    }
   ],
   "source": [
    "from torch_scatter import scatter_max\n",
    "\n",
    "# value only\n",
    "def scatter_max_raw(\n",
    "    src: torch.Tensor,\n",
    "    index: torch.Tensor,\n",
    "    dim: int = -1,\n",
    "    out: Optional[torch.Tensor] = None,\n",
    "    dim_size: Optional[int] = None,\n",
    ") -> Tuple[torch.Tensor, torch.Tensor]:\n",
    "\n",
    "    index = broadcast(index, src, dim)\n",
    "    if out is None:\n",
    "        size = list(src.size())\n",
    "        if dim_size is not None:\n",
    "            size[dim] = dim_size\n",
    "        elif index.numel() == 0:\n",
    "            size[dim] = 0\n",
    "        else:\n",
    "            size[dim] = int(index.max()) + 1\n",
    "        out = torch.zeros(size, dtype=src.dtype, device=src.device)\n",
    "        return out.scatter_reduce(0, index=index, src=src, reduce=\"amax\", include_self=False)\n",
    "        \n",
    "    else:\n",
    "        return out.scatter_reduce(\n",
    "            0, index=index, src=src, reduce=\"amax\", include_self=False\n",
    "        )\n",
    "\n",
    "# test the function\n",
    "\n",
    "src = torch.tensor([1, 2, 3, 4, 5, 6, 7, 8, 9, 10], dtype=torch.float32)\n",
    "index = torch.tensor([0, 1, 2, 0, 1, 2, 0, 1, 2, 0], dtype=torch.int64)\n",
    "dim = 0\n",
    "out = None\n",
    "dim_size = None\n",
    "\n",
    "out1 = scatter_max(src, index, dim, out, dim_size)\n",
    "out2 = scatter_max_raw(src, index, dim, out, dim_size)\n",
    "\n",
    "print(out1)\n",
    "print(out2)\n",
    "\n"
   ]
  }
 ],
 "metadata": {
  "kernelspec": {
   "display_name": "base",
   "language": "python",
   "name": "python3"
  },
  "language_info": {
   "codemirror_mode": {
    "name": "ipython",
    "version": 3
   },
   "file_extension": ".py",
   "mimetype": "text/x-python",
   "name": "python",
   "nbconvert_exporter": "python",
   "pygments_lexer": "ipython3",
   "version": "3.10.14"
  }
 },
 "nbformat": 4,
 "nbformat_minor": 2
}
